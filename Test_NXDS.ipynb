{
 "cells": [
  {
   "cell_type": "code",
   "execution_count": 1,
   "metadata": {},
   "outputs": [],
   "source": [
    "%load_ext autoreload\n",
    "%autoreload 2"
   ]
  },
  {
   "cell_type": "code",
   "execution_count": 2,
   "metadata": {},
   "outputs": [],
   "source": [
    "from data_platform.config import ConfigManager\n",
    "from data_platform.datasource.networkx import NetworkXDS"
   ]
  },
  {
   "cell_type": "code",
   "execution_count": 3,
   "metadata": {},
   "outputs": [],
   "source": [
    "from pathlib import Path\n",
    "import os"
   ]
  },
  {
   "cell_type": "code",
   "execution_count": 4,
   "metadata": {},
   "outputs": [],
   "source": [
    "current_location = Path(os.getcwd())\n",
    "data_location = current_location / 'data'\n",
    "graph_location = data_location / 'graph'"
   ]
  },
  {
   "cell_type": "code",
   "execution_count": 5,
   "metadata": {},
   "outputs": [],
   "source": [
    "config = ConfigManager({\n",
    "    \"init\": {\n",
    "        \"location\": graph_location\n",
    "    }\n",
    "})"
   ]
  },
  {
   "cell_type": "code",
   "execution_count": 6,
   "metadata": {},
   "outputs": [],
   "source": [
    "nxds = NetworkXDS(config)"
   ]
  },
  {
   "cell_type": "code",
   "execution_count": 7,
   "metadata": {},
   "outputs": [],
   "source": [
    "sample_graph1 = {\n",
    "    \"graph_type\": \"Graph\",\n",
    "    \"kwargs\": {\n",
    "        \"graph_name\": \"Sample Graph 1\"\n",
    "    },\n",
    "    \"nodes\": [\n",
    "        0,\n",
    "        1,\n",
    "        2,\n",
    "        3,\n",
    "        'foo',\n",
    "        'baz'\n",
    "    ],\n",
    "    \"edges\": [\n",
    "        (0, 1),\n",
    "        (1, 2),\n",
    "        (2, 3),\n",
    "        (1, 'foo'),\n",
    "        (0, 'baz')\n",
    "    ],\n",
    "    \"node_kwargs\": {\n",
    "        'color': 'red',\n",
    "        'page_rank': 5\n",
    "    },\n",
    "    \"edge_kwargs\": {\n",
    "        'weight': 0.5\n",
    "    }\n",
    "}\n",
    "\n",
    "sample_graph2 = {\n",
    "    \"graph_type\": \"DiGraph\",\n",
    "    \"kwargs\": {\n",
    "        \"graph_name\": \"Sample Graph 2\"\n",
    "    },\n",
    "    \"nodes\": [\n",
    "        0,\n",
    "        1,\n",
    "        2,\n",
    "        3,\n",
    "        'foo',\n",
    "        'baz'\n",
    "    ],\n",
    "    \"edges\": [\n",
    "        (0, 1),\n",
    "        (1, 2),\n",
    "        (2, 0),\n",
    "        (2, 3),\n",
    "        (3, 2),\n",
    "        (1, 'foo'),\n",
    "        (0, 'baz')\n",
    "    ],\n",
    "    \"node_kwargs\": {\n",
    "        'color': 'green',\n",
    "        'page_rank': 3\n",
    "    },\n",
    "    \"edge_kwargs\": {\n",
    "        'weight': 0.1\n",
    "    }\n",
    "}\n",
    "\n",
    "sample_node = ('foo', 0)\n",
    "sample_edge = ('foo', (0, 2))"
   ]
  },
  {
   "cell_type": "markdown",
   "metadata": {},
   "source": [
    "## Create"
   ]
  },
  {
   "cell_type": "markdown",
   "metadata": {},
   "source": [
    "### 默认向 `_default` 创建图"
   ]
  },
  {
   "cell_type": "code",
   "execution_count": 8,
   "metadata": {},
   "outputs": [
    {
     "data": {
      "text/plain": [
       "['_default']"
      ]
     },
     "execution_count": 8,
     "metadata": {},
     "output_type": "execute_result"
    }
   ],
   "source": [
    "nxds.create_graph(val=sample_graph1)"
   ]
  },
  {
   "cell_type": "markdown",
   "metadata": {},
   "source": [
    "### 一次性创建多个同样的图"
   ]
  },
  {
   "cell_type": "code",
   "execution_count": 9,
   "metadata": {},
   "outputs": [
    {
     "data": {
      "text/plain": [
       "['graph2', 'graph3', 'graph4']"
      ]
     },
     "execution_count": 9,
     "metadata": {},
     "output_type": "execute_result"
    }
   ],
   "source": [
    "nxds.create_graph(key=['graph2', 'graph3', 'graph4'], val = sample_graph2)"
   ]
  },
  {
   "cell_type": "code",
   "execution_count": 10,
   "metadata": {},
   "outputs": [
    {
     "data": {
      "text/plain": [
       "['foo']"
      ]
     },
     "execution_count": 10,
     "metadata": {},
     "output_type": "execute_result"
    }
   ],
   "source": [
    "nxds.create_graph(key='foo')"
   ]
  },
  {
   "cell_type": "code",
   "execution_count": 11,
   "metadata": {},
   "outputs": [
    {
     "data": {
      "text/plain": [
       "[('foo', 0)]"
      ]
     },
     "execution_count": 11,
     "metadata": {},
     "output_type": "execute_result"
    }
   ],
   "source": [
    "nxds.create_node(sample_node, val = {'blah': True})"
   ]
  },
  {
   "cell_type": "code",
   "execution_count": 12,
   "metadata": {},
   "outputs": [
    {
     "data": {
      "text/plain": [
       "[('foo', (0, 2))]"
      ]
     },
     "execution_count": 12,
     "metadata": {},
     "output_type": "execute_result"
    }
   ],
   "source": [
    "nxds.create_edge(sample_edge, {'baz': False})"
   ]
  },
  {
   "cell_type": "markdown",
   "metadata": {},
   "source": [
    "## Read"
   ]
  },
  {
   "cell_type": "markdown",
   "metadata": {},
   "source": [
    "### 默认读取所有图"
   ]
  },
  {
   "cell_type": "code",
   "execution_count": 13,
   "metadata": {},
   "outputs": [
    {
     "data": {
      "text/plain": [
       "{'_default': <networkx.classes.graph.Graph at 0x1bfe60fa9e8>,\n",
       " 'graph2': <networkx.classes.digraph.DiGraph at 0x1bfe60faeb8>,\n",
       " 'graph3': <networkx.classes.digraph.DiGraph at 0x1bfe60faef0>,\n",
       " 'graph4': <networkx.classes.digraph.DiGraph at 0x1bfe60faf98>,\n",
       " 'foo': <networkx.classes.graph.Graph at 0x1bfe60fae48>}"
      ]
     },
     "execution_count": 13,
     "metadata": {},
     "output_type": "execute_result"
    }
   ],
   "source": [
    "nxds.read_graph()"
   ]
  },
  {
   "cell_type": "markdown",
   "metadata": {},
   "source": [
    "### 图属性在对象的.graph里（NetworkX特性）"
   ]
  },
  {
   "cell_type": "code",
   "execution_count": 14,
   "metadata": {},
   "outputs": [
    {
     "data": {
      "text/plain": [
       "{'graph_name': 'Sample Graph 1'}"
      ]
     },
     "execution_count": 14,
     "metadata": {},
     "output_type": "execute_result"
    }
   ],
   "source": [
    "nxds.read_graph('_default')['_default'].graph"
   ]
  },
  {
   "cell_type": "markdown",
   "metadata": {},
   "source": [
    "### 默认读取所有节点"
   ]
  },
  {
   "cell_type": "code",
   "execution_count": 15,
   "metadata": {},
   "outputs": [
    {
     "data": {
      "text/plain": [
       "{('_default', 0): {'color': 'red', 'page_rank': 5},\n",
       " ('_default', 1): {'color': 'red', 'page_rank': 5},\n",
       " ('_default', 2): {'color': 'red', 'page_rank': 5},\n",
       " ('_default', 3): {'color': 'red', 'page_rank': 5},\n",
       " ('_default', 'foo'): {'color': 'red', 'page_rank': 5},\n",
       " ('_default', 'baz'): {'color': 'red', 'page_rank': 5},\n",
       " ('graph2', 0): {'color': 'green', 'page_rank': 3},\n",
       " ('graph2', 1): {'color': 'green', 'page_rank': 3},\n",
       " ('graph2', 2): {'color': 'green', 'page_rank': 3},\n",
       " ('graph2', 3): {'color': 'green', 'page_rank': 3},\n",
       " ('graph2', 'foo'): {'color': 'green', 'page_rank': 3},\n",
       " ('graph2', 'baz'): {'color': 'green', 'page_rank': 3},\n",
       " ('graph3', 0): {'color': 'green', 'page_rank': 3},\n",
       " ('graph3', 1): {'color': 'green', 'page_rank': 3},\n",
       " ('graph3', 2): {'color': 'green', 'page_rank': 3},\n",
       " ('graph3', 3): {'color': 'green', 'page_rank': 3},\n",
       " ('graph3', 'foo'): {'color': 'green', 'page_rank': 3},\n",
       " ('graph3', 'baz'): {'color': 'green', 'page_rank': 3},\n",
       " ('graph4', 0): {'color': 'green', 'page_rank': 3},\n",
       " ('graph4', 1): {'color': 'green', 'page_rank': 3},\n",
       " ('graph4', 2): {'color': 'green', 'page_rank': 3},\n",
       " ('graph4', 3): {'color': 'green', 'page_rank': 3},\n",
       " ('graph4', 'foo'): {'color': 'green', 'page_rank': 3},\n",
       " ('graph4', 'baz'): {'color': 'green', 'page_rank': 3},\n",
       " ('foo', 0): {'blah': True},\n",
       " ('foo', 2): {}}"
      ]
     },
     "execution_count": 15,
     "metadata": {},
     "output_type": "execute_result"
    }
   ],
   "source": [
    "nxds.read_node()"
   ]
  },
  {
   "cell_type": "markdown",
   "metadata": {},
   "source": [
    "### 通配符过滤（所有图中名为0的节点）"
   ]
  },
  {
   "cell_type": "code",
   "execution_count": 16,
   "metadata": {},
   "outputs": [
    {
     "data": {
      "text/plain": [
       "{('_default', 0): {'color': 'red', 'page_rank': 5},\n",
       " ('graph2', 0): {'color': 'green', 'page_rank': 3},\n",
       " ('graph3', 0): {'color': 'green', 'page_rank': 3},\n",
       " ('graph4', 0): {'color': 'green', 'page_rank': 3},\n",
       " ('foo', 0): {'blah': True}}"
      ]
     },
     "execution_count": 16,
     "metadata": {},
     "output_type": "execute_result"
    }
   ],
   "source": [
    "nxds.read_node(('@*', 0))"
   ]
  },
  {
   "cell_type": "markdown",
   "metadata": {},
   "source": [
    "### 默认读取所有边"
   ]
  },
  {
   "cell_type": "code",
   "execution_count": 17,
   "metadata": {},
   "outputs": [
    {
     "data": {
      "text/plain": [
       "{('_default', (0, 1)): {'weight': 0.5},\n",
       " ('_default', (0, 'baz')): {'weight': 0.5},\n",
       " ('_default', (1, 2)): {'weight': 0.5},\n",
       " ('_default', (1, 'foo')): {'weight': 0.5},\n",
       " ('_default', (2, 3)): {'weight': 0.5},\n",
       " ('graph2', (0, 1)): {'weight': 0.1},\n",
       " ('graph2', (0, 'baz')): {'weight': 0.1},\n",
       " ('graph2', (1, 2)): {'weight': 0.1},\n",
       " ('graph2', (1, 'foo')): {'weight': 0.1},\n",
       " ('graph2', (2, 0)): {'weight': 0.1},\n",
       " ('graph2', (2, 3)): {'weight': 0.1},\n",
       " ('graph2', (3, 2)): {'weight': 0.1},\n",
       " ('graph3', (0, 1)): {'weight': 0.1},\n",
       " ('graph3', (0, 'baz')): {'weight': 0.1},\n",
       " ('graph3', (1, 2)): {'weight': 0.1},\n",
       " ('graph3', (1, 'foo')): {'weight': 0.1},\n",
       " ('graph3', (2, 0)): {'weight': 0.1},\n",
       " ('graph3', (2, 3)): {'weight': 0.1},\n",
       " ('graph3', (3, 2)): {'weight': 0.1},\n",
       " ('graph4', (0, 1)): {'weight': 0.1},\n",
       " ('graph4', (0, 'baz')): {'weight': 0.1},\n",
       " ('graph4', (1, 2)): {'weight': 0.1},\n",
       " ('graph4', (1, 'foo')): {'weight': 0.1},\n",
       " ('graph4', (2, 0)): {'weight': 0.1},\n",
       " ('graph4', (2, 3)): {'weight': 0.1},\n",
       " ('graph4', (3, 2)): {'weight': 0.1},\n",
       " ('foo', (0, 2)): {'baz': False}}"
      ]
     },
     "execution_count": 17,
     "metadata": {},
     "output_type": "execute_result"
    }
   ],
   "source": [
    "nxds.read_edge()"
   ]
  },
  {
   "cell_type": "markdown",
   "metadata": {},
   "source": [
    "### 通配符过滤（所有图中指向0节点的边）\n",
    "\n",
    "PS：注意Graph没有出入边区别，这么写通配符会自动转换为同0相连的边（未来有可能会在logger里面加个warning）"
   ]
  },
  {
   "cell_type": "code",
   "execution_count": 18,
   "metadata": {},
   "outputs": [
    {
     "data": {
      "text/plain": [
       "{('_default', (0, 1)): {'weight': 0.5},\n",
       " ('_default', (0, 'baz')): {'weight': 0.5},\n",
       " ('graph2', (2, 0)): {'weight': 0.1},\n",
       " ('graph3', (2, 0)): {'weight': 0.1},\n",
       " ('graph4', (2, 0)): {'weight': 0.1},\n",
       " ('foo', (0, 2)): {'baz': False}}"
      ]
     },
     "execution_count": 18,
     "metadata": {},
     "output_type": "execute_result"
    }
   ],
   "source": [
    "nxds.read_edge(('@*', ('@*', 0)))"
   ]
  },
  {
   "cell_type": "markdown",
   "metadata": {},
   "source": [
    "## Update"
   ]
  },
  {
   "cell_type": "code",
   "execution_count": 19,
   "metadata": {},
   "outputs": [
    {
     "data": {
      "text/plain": [
       "['_default']"
      ]
     },
     "execution_count": 19,
     "metadata": {},
     "output_type": "execute_result"
    }
   ],
   "source": [
    "nxds.update_graph(val = {\n",
    "    'kwargs': {\n",
    "        'graph_title': 'A New Graph'\n",
    "    },\n",
    "    'nodes': [\n",
    "        7, 8, 9\n",
    "    ],\n",
    "    'edges': [\n",
    "        (7, 8),\n",
    "        (9, 7)\n",
    "    ],\n",
    "    'node_kwargs': {\n",
    "        'role': 'follower'\n",
    "    },\n",
    "    'edge_kwargs': {\n",
    "        'create_date': '2018-01-20'\n",
    "    }\n",
    "})"
   ]
  },
  {
   "cell_type": "code",
   "execution_count": 20,
   "metadata": {},
   "outputs": [
    {
     "data": {
      "text/plain": [
       "{'graph_name': 'Sample Graph 1', 'graph_title': 'A New Graph'}"
      ]
     },
     "execution_count": 20,
     "metadata": {},
     "output_type": "execute_result"
    }
   ],
   "source": [
    "nxds.read_graph('_default')['_default'].graph"
   ]
  },
  {
   "cell_type": "code",
   "execution_count": 21,
   "metadata": {},
   "outputs": [
    {
     "data": {
      "text/plain": [
       "[('foo', 0)]"
      ]
     },
     "execution_count": 21,
     "metadata": {},
     "output_type": "execute_result"
    }
   ],
   "source": [
    "nxds.update_node(('foo', 0), {'build': 'yes'})"
   ]
  },
  {
   "cell_type": "code",
   "execution_count": 22,
   "metadata": {},
   "outputs": [
    {
     "data": {
      "text/plain": [
       "{('foo', 0): {'blah': True, 'build': 'yes'}}"
      ]
     },
     "execution_count": 22,
     "metadata": {},
     "output_type": "execute_result"
    }
   ],
   "source": [
    "nxds.read_node(('foo', 0))"
   ]
  },
  {
   "cell_type": "code",
   "execution_count": 23,
   "metadata": {},
   "outputs": [
    {
     "data": {
      "text/plain": [
       "[('foo', (0, 2))]"
      ]
     },
     "execution_count": 23,
     "metadata": {},
     "output_type": "execute_result"
    }
   ],
   "source": [
    "nxds.update_edge(('foo', (0, 2)), {'hello': 'world'})"
   ]
  },
  {
   "cell_type": "code",
   "execution_count": 24,
   "metadata": {},
   "outputs": [
    {
     "data": {
      "text/plain": [
       "{('foo', (0, 2)): {'baz': False, 'hello': 'world'}}"
      ]
     },
     "execution_count": 24,
     "metadata": {},
     "output_type": "execute_result"
    }
   ],
   "source": [
    "nxds.read_edge(('foo', (0, 2)))"
   ]
  },
  {
   "cell_type": "markdown",
   "metadata": {},
   "source": [
    "## Delete"
   ]
  },
  {
   "cell_type": "code",
   "execution_count": 25,
   "metadata": {},
   "outputs": [
    {
     "data": {
      "text/plain": [
       "1"
      ]
     },
     "execution_count": 25,
     "metadata": {},
     "output_type": "execute_result"
    }
   ],
   "source": [
    "nxds.delete_graph('foo')"
   ]
  },
  {
   "cell_type": "code",
   "execution_count": 26,
   "metadata": {},
   "outputs": [
    {
     "data": {
      "text/plain": [
       "{'_default': <networkx.classes.graph.Graph at 0x1bfe60fa9e8>,\n",
       " 'graph2': <networkx.classes.digraph.DiGraph at 0x1bfe60faeb8>,\n",
       " 'graph3': <networkx.classes.digraph.DiGraph at 0x1bfe60faef0>,\n",
       " 'graph4': <networkx.classes.digraph.DiGraph at 0x1bfe60faf98>}"
      ]
     },
     "execution_count": 26,
     "metadata": {},
     "output_type": "execute_result"
    }
   ],
   "source": [
    "nxds.read_graph()"
   ]
  },
  {
   "cell_type": "code",
   "execution_count": 27,
   "metadata": {},
   "outputs": [
    {
     "data": {
      "text/plain": [
       "1"
      ]
     },
     "execution_count": 27,
     "metadata": {},
     "output_type": "execute_result"
    }
   ],
   "source": [
    "nxds.delete_graph()"
   ]
  },
  {
   "cell_type": "code",
   "execution_count": 28,
   "metadata": {},
   "outputs": [
    {
     "data": {
      "text/plain": [
       "{'graph2': <networkx.classes.digraph.DiGraph at 0x1bfe60faeb8>,\n",
       " 'graph3': <networkx.classes.digraph.DiGraph at 0x1bfe60faef0>,\n",
       " 'graph4': <networkx.classes.digraph.DiGraph at 0x1bfe60faf98>}"
      ]
     },
     "execution_count": 28,
     "metadata": {},
     "output_type": "execute_result"
    }
   ],
   "source": [
    "nxds.read_graph()"
   ]
  },
  {
   "cell_type": "code",
   "execution_count": 29,
   "metadata": {},
   "outputs": [
    {
     "data": {
      "text/plain": [
       "3"
      ]
     },
     "execution_count": 29,
     "metadata": {},
     "output_type": "execute_result"
    }
   ],
   "source": [
    "nxds.delete_node(('@*', 0))"
   ]
  },
  {
   "cell_type": "code",
   "execution_count": 30,
   "metadata": {},
   "outputs": [
    {
     "data": {
      "text/plain": [
       "{('graph2', 1): {'color': 'green', 'page_rank': 3},\n",
       " ('graph2', 2): {'color': 'green', 'page_rank': 3},\n",
       " ('graph2', 3): {'color': 'green', 'page_rank': 3},\n",
       " ('graph2', 'foo'): {'color': 'green', 'page_rank': 3},\n",
       " ('graph2', 'baz'): {'color': 'green', 'page_rank': 3},\n",
       " ('graph3', 1): {'color': 'green', 'page_rank': 3},\n",
       " ('graph3', 2): {'color': 'green', 'page_rank': 3},\n",
       " ('graph3', 3): {'color': 'green', 'page_rank': 3},\n",
       " ('graph3', 'foo'): {'color': 'green', 'page_rank': 3},\n",
       " ('graph3', 'baz'): {'color': 'green', 'page_rank': 3},\n",
       " ('graph4', 1): {'color': 'green', 'page_rank': 3},\n",
       " ('graph4', 2): {'color': 'green', 'page_rank': 3},\n",
       " ('graph4', 3): {'color': 'green', 'page_rank': 3},\n",
       " ('graph4', 'foo'): {'color': 'green', 'page_rank': 3},\n",
       " ('graph4', 'baz'): {'color': 'green', 'page_rank': 3}}"
      ]
     },
     "execution_count": 30,
     "metadata": {},
     "output_type": "execute_result"
    }
   ],
   "source": [
    "nxds.read_node()"
   ]
  },
  {
   "cell_type": "code",
   "execution_count": 31,
   "metadata": {
    "scrolled": true
   },
   "outputs": [
    {
     "data": {
      "text/plain": [
       "3"
      ]
     },
     "execution_count": 31,
     "metadata": {},
     "output_type": "execute_result"
    }
   ],
   "source": [
    "nxds.delete_edge(('@*', (2, '@*')))"
   ]
  },
  {
   "cell_type": "code",
   "execution_count": 32,
   "metadata": {},
   "outputs": [
    {
     "data": {
      "text/plain": [
       "{('graph2', (1, 2)): {'weight': 0.1},\n",
       " ('graph2', (1, 'foo')): {'weight': 0.1},\n",
       " ('graph2', (3, 2)): {'weight': 0.1},\n",
       " ('graph3', (1, 2)): {'weight': 0.1},\n",
       " ('graph3', (1, 'foo')): {'weight': 0.1},\n",
       " ('graph3', (3, 2)): {'weight': 0.1},\n",
       " ('graph4', (1, 2)): {'weight': 0.1},\n",
       " ('graph4', (1, 'foo')): {'weight': 0.1},\n",
       " ('graph4', (3, 2)): {'weight': 0.1}}"
      ]
     },
     "execution_count": 32,
     "metadata": {},
     "output_type": "execute_result"
    }
   ],
   "source": [
    "nxds.read_edge()"
   ]
  },
  {
   "cell_type": "markdown",
   "metadata": {},
   "source": [
    "## flush, clear, and reload"
   ]
  },
  {
   "cell_type": "code",
   "execution_count": 33,
   "metadata": {},
   "outputs": [],
   "source": [
    "nxds.flush()"
   ]
  },
  {
   "cell_type": "code",
   "execution_count": 34,
   "metadata": {},
   "outputs": [],
   "source": [
    "nxds.clear()"
   ]
  },
  {
   "cell_type": "code",
   "execution_count": 35,
   "metadata": {},
   "outputs": [],
   "source": [
    "nxds.reload()"
   ]
  }
 ],
 "metadata": {
  "kernelspec": {
   "display_name": "Python 3.6 (KnowNet)",
   "language": "python",
   "name": "knownet"
  },
  "language_info": {
   "codemirror_mode": {
    "name": "ipython",
    "version": 3
   },
   "file_extension": ".py",
   "mimetype": "text/x-python",
   "name": "python",
   "nbconvert_exporter": "python",
   "pygments_lexer": "ipython3",
   "version": "3.6.6"
  }
 },
 "nbformat": 4,
 "nbformat_minor": 2
}
