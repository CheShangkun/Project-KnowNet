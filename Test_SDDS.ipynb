{
 "cells": [
  {
   "cell_type": "code",
   "execution_count": 1,
   "metadata": {},
   "outputs": [],
   "source": [
    "%load_ext autoreload\n",
    "%autoreload 2"
   ]
  },
  {
   "cell_type": "code",
   "execution_count": 2,
   "metadata": {},
   "outputs": [],
   "source": [
    "import data_platform.datasource as ds\n",
    "from data_platform.config import ConfigManager\n",
    "from data_platform.datasource.science_direct import ScienceDirectDS"
   ]
  },
  {
   "cell_type": "code",
   "execution_count": 3,
   "metadata": {},
   "outputs": [],
   "source": [
    "from pathlib import Path\n",
    "import os"
   ]
  },
  {
   "cell_type": "code",
   "execution_count": 4,
   "metadata": {},
   "outputs": [],
   "source": [
    "current_path = Path(os.getcwd())\n",
    "data_path = current_path / 'data'\n",
    "xml_path = data_path / 'unprocessed_articles_xml'"
   ]
  },
  {
   "cell_type": "markdown",
   "metadata": {},
   "source": [
    "## 构造配置文件"
   ]
  },
  {
   "cell_type": "code",
   "execution_count": 5,
   "metadata": {},
   "outputs": [],
   "source": [
    "config = ConfigManager({\n",
    "    \"init\": {\n",
    "        \"location\": xml_path    \n",
    "    }\n",
    "})"
   ]
  },
  {
   "cell_type": "markdown",
   "metadata": {},
   "source": [
    "## 解析xml文件夹或文件"
   ]
  },
  {
   "cell_type": "code",
   "execution_count": 6,
   "metadata": {
    "scrolled": true
   },
   "outputs": [
    {
     "name": "stderr",
     "output_type": "stream",
     "text": [
      "Parsing file 10.xml error:  Source file has no article\n",
      "Parsing file 109.xml error:  Source file has no article\n",
      "Parsing file 111.xml error:  Source file has no article\n",
      "Parsing file 116.xml error:  Source file has no article\n",
      "Parsing file 117.xml error:  Source file has no body\n",
      "Parsing file 119.xml error:  Source file has no body\n",
      "Parsing file 12.xml error:  Source file has no article\n",
      "Parsing file 122.xml error:  Source file has no article\n",
      "Parsing file 125.xml error:  Source file has no article\n",
      "Parsing file 126.xml error:  Source file has no article\n",
      "Parsing file 129.xml error:  Source file has no article\n",
      "Parsing file 136.xml error:  Source file has no article\n",
      "Parsing file 140.xml error:  Source file has no article\n",
      "Parsing file 142.xml error:  Source file has no body\n",
      "Parsing file 145.xml error:  Source file has no article\n",
      "Parsing file 146.xml error:  Source file has no article\n",
      "Parsing file 150.xml error:  Source file has no article\n",
      "Parsing file 158.xml error:  Source file has no body\n",
      "Parsing file 160.xml error:  Source file has no tail\n",
      "Parsing file 161.xml error:  Source file has no article\n",
      "Parsing file 162.xml error:  Source file has no article\n",
      "Parsing file 163.xml error:  Source file has no body\n",
      "Parsing file 164.xml error:  Source file has no article\n",
      "Parsing file 168.xml error:  Source file has no article\n",
      "Parsing file 169.xml error:  Source file has no article\n",
      "Parsing file 17.xml error:  Source file has no body\n",
      "Parsing file 172.xml error:  Source file has no article\n",
      "Parsing file 173.xml error:  Source file has no body\n",
      "Parsing file 175.xml error:  Source file has no article\n",
      "Parsing file 176.xml error:  Source file has no body\n",
      "Parsing file 180.xml error:  Source file has no article\n",
      "Parsing file 181.xml error:  Source file has no body\n",
      "Parsing file 191.xml error:  Source file has no article\n",
      "Parsing file 192.xml error:  Source file has no article\n",
      "Parsing file 193.xml error:  Source file has no article\n",
      "Parsing file 194.xml error:  Source file has no article\n",
      "Parsing file 195.xml error:  Source file has no article\n",
      "Parsing file 199.xml error:  Source file has no article\n",
      "Parsing file 2.xml error:  Source file has no body\n",
      "Parsing file 20.xml error:  Source file has no body\n",
      "Parsing file 200.xml error:  Source file has no article\n",
      "Parsing file 21.xml error:  Source file has no article\n",
      "Parsing file 28.xml error:  Source file has no article\n",
      "Parsing file 3.xml error:  Source file has no body\n",
      "Parsing file 30.xml error:  Source file has no article\n",
      "Parsing file 31.xml error:  Source file has no body\n",
      "Parsing file 4.xml error:  Source file has no article\n",
      "Parsing file 47.xml error:  Source file has no article\n",
      "Parsing file 50.xml error:  Source file has no body\n",
      "Parsing file 51.xml error:  Source file has no article\n",
      "Parsing file 54.xml error:  Source file has no body\n",
      "Parsing file 59.xml error:  Source file has no body\n",
      "Parsing file 60.xml error:  Source file has no article\n",
      "Parsing file 62.xml error:  Source file has no body\n",
      "Parsing file 80.xml error:  Source file has no body\n",
      "Parsing file 81.xml error:  Source file has no tail\n",
      "Parsing file 83.xml error:  Source file has no body\n",
      "Parsing file 95.xml error:  Source file has no body\n",
      "Parsing file 96.xml error:  Source file has no tail\n"
     ]
    }
   ],
   "source": [
    "ds = ScienceDirectDS(config)\n",
    "docset = ds.read_doc({})"
   ]
  },
  {
   "cell_type": "code",
   "execution_count": 7,
   "metadata": {},
   "outputs": [
    {
     "data": {
      "text/plain": [
       "141"
      ]
     },
     "execution_count": 7,
     "metadata": {},
     "output_type": "execute_result"
    }
   ],
   "source": [
    "len(docset)"
   ]
  },
  {
   "cell_type": "markdown",
   "metadata": {},
   "source": [
    "## 文档集可迭代"
   ]
  },
  {
   "cell_type": "code",
   "execution_count": 8,
   "metadata": {},
   "outputs": [],
   "source": [
    "doc = docset[0]"
   ]
  },
  {
   "cell_type": "code",
   "execution_count": 9,
   "metadata": {
    "scrolled": true
   },
   "outputs": [
    {
     "name": "stdout",
     "output_type": "stream",
     "text": [
      "Background\n",
      "Quality measurement of endoscopy is becoming the standard of care in the United States[1-5] and may influence the choice of provider, outcomes, and reimbursement.[5-7] ERCP, the highest-risk endoscopic procedure in widespread practice,[8] has not been extensively studied for individual, endoscopic-based quality measures.[9] Historically, ERCP quality has focused on provider or facility volume, with higher volumes associated with higher quality as defined by success and adverse event rates after adjusting for procedure indication.[10,11] In 2006, the American Society for Gastrointestinal Endoscopy (ASGE) and the American College of Gastroenterology (ACG) Task Force on Quality Endoscopy provided the first quality indicators for ERCP, many based on expert consensus,[9] and these were subsequently updated in 2014.[1]\n",
      "Similar to colonoscopy, there are challenges in obtaining ERCP-based quality measures because of the time-intensive nature of manual medical record review. Given this challenge in colonoscopy, several studies have demonstrated the feasibility of using natural language processing (NLP) to extract these measures from text documents in the medical record, with >90% accuracy for colonoscopy-specific measures.[12-16] We hypothesized that NLP, in conjunction with data mining using standard billing codes, could be used to track ERCP quality measures accurately and efficiently. If successful, NLP could be incorporated into health systems that aim to monitor ERCP quality and provide feedback to providers, administrators, and payers in an effort to show adherence to national benchmarks; if needed, these data could be used to refine local practices through quality improvement initiatives.[17]\n",
      "The primary aim of this study was to measure the precision and accuracy of NLP in assessing ERCP-specific quality measures. The secondary aim was to provide pilot data on the variability of adherence to quality benchmarks among individual providers at a single institution.[17]\n",
      "Methods\n",
      "After Institutional Review Board approval, we identified ERCP procedure reports and related clinical data from January 1, 2006, to July 25, 2014.\n",
      "Results\n",
      "Of 63,119 documents on 15,581 patients that were indexed as an “ERCP” document, 39,440 were excluded with 100% accuracy, because the keyword text search indicated that these documents were radiology reports or other nonprocedure reports. This resulted in 23,679 ERCP procedures on 13,299 patients identified by NLP ([Fig. 1). Validation of this methodology showed all reviewed documents to be true ERCP procedure reports written by an endoscopist (eg, not a radiology report). Of 23,679 ERCP procedures, 5 were missing patient age, gender, or race and hence were excluded as having incomplete data and not available for adjustment. The final study sample comprised the remaining 23,674 procedures and was used to evaluate the quality measures across the 6 providers. Each provider averaged more than 280 ERCPs per year with a range of 282.7 to 570.9. The mean age of the patients was 52.9 (17.8) years; 59.6% were women and most (75.9%) were white ([Appendix Table 1, available online atwww.giejournal.org).\n",
      "Discussion\n",
      "ERCP is a challenging procedure with high risk for adverse events and technical failure. The risks increase exponentially when the procedure is performed for nonobstructive indications (eg, sphincter of Oddi dysfunction or idiopathic acute pancreatitis). Feedback to colonoscopists on their adenoma detection rate may or may not improve provider performance.[17,20] It is plausible that feedback to ERCP providers on their adherence to national recommendations would also improve the quality of ERCP services provided. The primary objective of this study was to develop a feasible method to track quality metrics in ERCP. An example of a stoplight report card is shown in[Figure 3. Using an existing open-source-based NLP system, we extracted quality measures over an 8.5-year period and compared them across individual providers and with society guidelines. This work is the first attempt to assess ERCP quality measures using NLP, and supports the feasibility of applying these techniques to larger datasets across multiple health care systems.\n",
      "In this study, we demonstrate clinically significant variation in the rate of pancreatic cannulation when not the intended target among providers, even among a highly skilled group of endoscopists at a single referral center (>9% variation). Given that one of the high risks for ERCP is development of post-ERCP pancreatitis, this may be a high-impact process quality metric even among high-volume providers of ERCP. This knowledge may guide quality improvement projects to enhance appropriate documentation and identify providers who are not meeting society-endorsed benchmarks. Most quality measures show little to no variation in this highly homogeneous population of high-volume providers. Although many of the measures (eg, document preprocedure history and physical examination) may not reflect quality as these are often done externally to the report, they are contained within the quality tracking measurements for all endoscopic procedures.\n",
      "Two priority measures included in the society guideline were not included in this study: rate of bile duct stent placement and rate of post-ERCP pancreatitis. We did not include stent placement because the study population used to analyze intraprocedural quality metrics was limited to patients undergoing ERCP for choledocholithiasis, which is the most common indication for ERCP. In addition, post-ERCP pancreatitis cannot be reliably detected in a retrospective study design; given the concern for detection bias, we decided to exclude post-ERCP pancreatitis from this pilot study.\n",
      "The study has several limitations. First, the sample is restricted to ERCPs performed at a regional referral center. Although this high-volume unit does not reflect the general patient population, adherence to quality measures should apply to all ERCP providers. Furthermore, this study seeks to develop and validate a feasible method for assessing ERCP quality measures, and not to report adherence to benchmarks established by society guidelines.\n",
      "A second limitation relates to the methodology used to define appropriate indications for ERCP. The spectrum of indications and their appropriateness will require further study and more detailed manual record review; it is possible that the lower rates observed in this pilot study could be attributable to the definition of appropriate indication (see[Appendix). In addition, future studies will need to refine the definition using ICD10-CM definitions.\n",
      "A third limitation is that a single endoscopy software package (ProVation) was used during the study period. This greatly enhances the ability for text mining and NLP to accurately detect specific concepts (eg, 100% accuracy for providers). However, our group has shown that this technique can be applied to other institutions and accurately measure variables despite different methods for text document entry (eg, dictation and endoscopy software).[16] We also made assumptions about ICD9-CM coding in relation to the procedure. This can be seen with the postsphincterotomy bleeding rate allowing for 7 days after the procedure for any event associated with a specific ICD9-CM code (285.1). With this assumption, we may pick up non-ERCP-related bleeding and/or bleeding not caused by sphincterotomy. Additional ICD9-CM or ICD10-CM coding such as 578.9 (GI bleeding) and 998.11 (hemorrhage complicating a procedure) might be used in the future to expand the identification of delayed adverse events.\n",
      "We believe NLP is unlikely to provide a solution for accurate assessment of quality metrics without additional input of other methods such as data mining of discrete elements (eg, billing and procedure codes). However, given the breadth of maneuvers and outcomes specific to ERCP, NLP provides a standardized tool that could be applied across different platforms for procedure documentation. The optimal combination may be to incorporate NLP into a multifaceted approach to data extraction and summation.\n",
      "Conclusions\n",
      "Overall, this study demonstrates that NLP, in conjunction with data mining of ICD codes, has the ability to track some quality measures, especially intraprocedure. However, the ability to accurately extract several periprocedural quality measures (ie, post-ERCP pancreatitis) from the electronic record is unclear and requires further study. Future studies will need to refine this methodology and apply it to a larger number of providers and institutions, with the long-term goal being accurate tracking and reporting of ERCP quality.\n",
      "\n"
     ]
    }
   ],
   "source": [
    "print(doc.get_text())"
   ]
  },
  {
   "cell_type": "markdown",
   "metadata": {},
   "source": [
    "## 分节"
   ]
  },
  {
   "cell_type": "code",
   "execution_count": 10,
   "metadata": {},
   "outputs": [
    {
     "data": {
      "text/plain": [
       "[<data_platform.document.Section at 0x151b4d5a7f0>,\n",
       " <data_platform.document.Section at 0x151b4d06630>,\n",
       " <data_platform.document.Section at 0x151b4d06a20>,\n",
       " <data_platform.document.Section at 0x151b4cc40f0>,\n",
       " <data_platform.document.Section at 0x151b4cd1240>]"
      ]
     },
     "execution_count": 10,
     "metadata": {},
     "output_type": "execute_result"
    }
   ],
   "source": [
    "doc.get_sections()"
   ]
  },
  {
   "cell_type": "code",
   "execution_count": 11,
   "metadata": {},
   "outputs": [],
   "source": [
    "sec = doc[0]"
   ]
  },
  {
   "cell_type": "code",
   "execution_count": 12,
   "metadata": {},
   "outputs": [
    {
     "data": {
      "text/plain": [
       "{'section_title': 'Background',\n",
       " 'id': 'sec1',\n",
       " 'role': 'background',\n",
       " 'view': 'all',\n",
       " 'doc_id': 0}"
      ]
     },
     "execution_count": 12,
     "metadata": {},
     "output_type": "execute_result"
    }
   ],
   "source": [
    "sec._init_kwargs"
   ]
  },
  {
   "cell_type": "code",
   "execution_count": 13,
   "metadata": {
    "scrolled": true
   },
   "outputs": [
    {
     "name": "stdout",
     "output_type": "stream",
     "text": [
      "Background\n",
      "Quality measurement of endoscopy is becoming the standard of care in the United States[1-5] and may influence the choice of provider, outcomes, and reimbursement.[5-7] ERCP, the highest-risk endoscopic procedure in widespread practice,[8] has not been extensively studied for individual, endoscopic-based quality measures.[9] Historically, ERCP quality has focused on provider or facility volume, with higher volumes associated with higher quality as defined by success and adverse event rates after adjusting for procedure indication.[10,11] In 2006, the American Society for Gastrointestinal Endoscopy (ASGE) and the American College of Gastroenterology (ACG) Task Force on Quality Endoscopy provided the first quality indicators for ERCP, many based on expert consensus,[9] and these were subsequently updated in 2014.[1]\n",
      "Similar to colonoscopy, there are challenges in obtaining ERCP-based quality measures because of the time-intensive nature of manual medical record review. Given this challenge in colonoscopy, several studies have demonstrated the feasibility of using natural language processing (NLP) to extract these measures from text documents in the medical record, with >90% accuracy for colonoscopy-specific measures.[12-16] We hypothesized that NLP, in conjunction with data mining using standard billing codes, could be used to track ERCP quality measures accurately and efficiently. If successful, NLP could be incorporated into health systems that aim to monitor ERCP quality and provide feedback to providers, administrators, and payers in an effort to show adherence to national benchmarks; if needed, these data could be used to refine local practices through quality improvement initiatives.[17]\n",
      "The primary aim of this study was to measure the precision and accuracy of NLP in assessing ERCP-specific quality measures. The secondary aim was to provide pilot data on the variability of adherence to quality benchmarks among individual providers at a single institution.[17]\n",
      "\n"
     ]
    }
   ],
   "source": [
    "print(sec.get_text())"
   ]
  },
  {
   "cell_type": "markdown",
   "metadata": {},
   "source": [
    "## 段落"
   ]
  },
  {
   "cell_type": "code",
   "execution_count": 14,
   "metadata": {},
   "outputs": [],
   "source": [
    "para1 = sec[0]"
   ]
  },
  {
   "cell_type": "code",
   "execution_count": 15,
   "metadata": {},
   "outputs": [
    {
     "data": {
      "text/plain": [
       "{'id': 'sectitle0035'}"
      ]
     },
     "execution_count": 15,
     "metadata": {},
     "output_type": "execute_result"
    }
   ],
   "source": [
    "para1._init_kwargs"
   ]
  },
  {
   "cell_type": "code",
   "execution_count": 16,
   "metadata": {},
   "outputs": [
    {
     "name": "stdout",
     "output_type": "stream",
     "text": [
      "Background\n"
     ]
    }
   ],
   "source": [
    "print(para1.get_text())"
   ]
  },
  {
   "cell_type": "code",
   "execution_count": 17,
   "metadata": {},
   "outputs": [],
   "source": [
    "para2 = sec[1]"
   ]
  },
  {
   "cell_type": "code",
   "execution_count": 18,
   "metadata": {},
   "outputs": [
    {
     "data": {
      "text/plain": [
       "{'id': 'p0010',\n",
       " 'view': 'all',\n",
       " 'doc_id': 0,\n",
       " 'parent': <data_platform.document.Section at 0x151b4d5a7f0>}"
      ]
     },
     "execution_count": 18,
     "metadata": {},
     "output_type": "execute_result"
    }
   ],
   "source": [
    "para2._init_kwargs"
   ]
  },
  {
   "cell_type": "code",
   "execution_count": 19,
   "metadata": {},
   "outputs": [
    {
     "name": "stdout",
     "output_type": "stream",
     "text": [
      "Quality measurement of endoscopy is becoming the standard of care in the United States[1-5] and may influence the choice of provider, outcomes, and reimbursement.[5-7] ERCP, the highest-risk endoscopic procedure in widespread practice,[8] has not been extensively studied for individual, endoscopic-based quality measures.[9] Historically, ERCP quality has focused on provider or facility volume, with higher volumes associated with higher quality as defined by success and adverse event rates after adjusting for procedure indication.[10,11] In 2006, the American Society for Gastrointestinal Endoscopy (ASGE) and the American College of Gastroenterology (ACG) Task Force on Quality Endoscopy provided the first quality indicators for ERCP, many based on expert consensus,[9] and these were subsequently updated in 2014.[1]\n"
     ]
    }
   ],
   "source": [
    "print(para2.get_text())"
   ]
  },
  {
   "cell_type": "markdown",
   "metadata": {},
   "source": [
    "## 行内元素"
   ]
  },
  {
   "cell_type": "code",
   "execution_count": 20,
   "metadata": {},
   "outputs": [
    {
     "data": {
      "text/plain": [
       "data_platform.document.Text"
      ]
     },
     "execution_count": 20,
     "metadata": {},
     "output_type": "execute_result"
    }
   ],
   "source": [
    "type(para2[0])"
   ]
  },
  {
   "cell_type": "code",
   "execution_count": 21,
   "metadata": {},
   "outputs": [
    {
     "data": {
      "text/plain": [
       "'Quality measurement of endoscopy is becoming the standard of care in the United States'"
      ]
     },
     "execution_count": 21,
     "metadata": {},
     "output_type": "execute_result"
    }
   ],
   "source": [
    "para2[0].get_text()"
   ]
  },
  {
   "cell_type": "code",
   "execution_count": 22,
   "metadata": {},
   "outputs": [
    {
     "data": {
      "text/plain": [
       "data_platform.document.Tag"
      ]
     },
     "execution_count": 22,
     "metadata": {},
     "output_type": "execute_result"
    }
   ],
   "source": [
    "type(para2[1])"
   ]
  },
  {
   "cell_type": "code",
   "execution_count": 23,
   "metadata": {},
   "outputs": [
    {
     "data": {
      "text/plain": [
       "'[1-5]'"
      ]
     },
     "execution_count": 23,
     "metadata": {},
     "output_type": "execute_result"
    }
   ],
   "source": [
    "para2[1].get_text()"
   ]
  },
  {
   "cell_type": "code",
   "execution_count": 24,
   "metadata": {},
   "outputs": [
    {
     "name": "stdout",
     "output_type": "stream",
     "text": [
      "cross-refs\n",
      "[1-5]\n",
      "{'refid': ['bib1', 'bib2', 'bib3', 'bib4', 'bib5'], 'id': 'crosrefs0010', 'doc_id': 0, 'parent': <data_platform.document.Paragraph object at 0x00000151B4D5A978>}\n"
     ]
    }
   ],
   "source": [
    "print(para2[1].tag_name)\n",
    "print(para2[1].tag_text)\n",
    "print(para2[1].tag_attr)"
   ]
  },
  {
   "cell_type": "markdown",
   "metadata": {},
   "source": [
    "## 引文数据"
   ]
  },
  {
   "cell_type": "code",
   "execution_count": 25,
   "metadata": {},
   "outputs": [
    {
     "data": {
      "text/plain": [
       "{'coredata': <data_platform.document.MetaData at 0x151b4d4b9b0>,\n",
       " 'bib2para': <data_platform.document.MetaData at 0x151b4cd1278>,\n",
       " 'references': <data_platform.document.MetaData at 0x151b4d652e8>}"
      ]
     },
     "execution_count": 25,
     "metadata": {},
     "output_type": "execute_result"
    }
   ],
   "source": [
    "doc.get_metadata()"
   ]
  },
  {
   "cell_type": "code",
   "execution_count": 26,
   "metadata": {},
   "outputs": [
    {
     "name": "stdout",
     "output_type": "stream",
     "text": [
      "bibliography\n"
     ]
    }
   ],
   "source": [
    "ref = doc.get_metadata()['references']\n",
    "print(ref.meta_name)"
   ]
  },
  {
   "cell_type": "code",
   "execution_count": 27,
   "metadata": {
    "scrolled": true
   },
   "outputs": [
    {
     "data": {
      "text/plain": [
       "{'id': 'cebib0010',\n",
       " 'view': 'all',\n",
       " 'section-title': {'id': 'sectitle0125', 'text': 'References'},\n",
       " 'bibbliography-section': {'id': 'cebibsec0010',\n",
       "  'view': 'all',\n",
       "  'references': {'bib1': {'id': 'bib1',\n",
       "    'label': '1',\n",
       "    'authors': [{'given-name': 'D.G.', 'surname': 'Adler'},\n",
       "     {'given-name': 'J.G.', 'surname': 'Lieb Ii'},\n",
       "     {'given-name': 'J.', 'surname': 'Cohen'}],\n",
       "    'title': {'maintitle': 'Quality indicators for ERCP'},\n",
       "    'host_title': {'maintitle': 'Gastrointest Endosc'},\n",
       "    'volume-nr': '81',\n",
       "    'date': '2015',\n",
       "    'pages': {'first-page': '54', 'last-page': '66'}},\n",
       "   'bib2': {'id': 'bib2',\n",
       "    'label': '2',\n",
       "    'authors': [{'given-name': 'D.K.', 'surname': 'Rex'},\n",
       "     {'given-name': 'P.S.', 'surname': 'Schoenfeld'},\n",
       "     {'given-name': 'J.', 'surname': 'Cohen'}],\n",
       "    'title': {'maintitle': 'Quality indicators for colonoscopy'},\n",
       "    'host_title': {'maintitle': 'Gastrointest Endosc'},\n",
       "    'volume-nr': '81',\n",
       "    'date': '2015',\n",
       "    'pages': {'first-page': '31', 'last-page': '53'}},\n",
       "   'bib3': {'id': 'bib3',\n",
       "    'label': '3',\n",
       "    'authors': [{'given-name': 'W.G.', 'surname': 'Park'},\n",
       "     {'given-name': 'N.J.', 'surname': 'Shaheen'},\n",
       "     {'given-name': 'J.', 'surname': 'Cohen'}],\n",
       "    'title': {'maintitle': 'Quality indicators for EGD'},\n",
       "    'host_title': {'maintitle': 'Gastrointest Endosc'},\n",
       "    'volume-nr': '81',\n",
       "    'date': '2015',\n",
       "    'pages': {'first-page': '17', 'last-page': '30'}},\n",
       "   'bib4': {'id': 'bib4',\n",
       "    'label': '4',\n",
       "    'authors': [{'given-name': 'S.', 'surname': 'Wani'},\n",
       "     {'given-name': 'M.B.', 'surname': 'Wallace'},\n",
       "     {'given-name': 'J.', 'surname': 'Cohen'}],\n",
       "    'title': {'maintitle': 'Quality indicators for EUS'},\n",
       "    'host_title': {'maintitle': 'Gastrointest Endosc'},\n",
       "    'date': '2015',\n",
       "    'pages': {'first-page': '8167', 'last-page': '8180'}},\n",
       "   'bib5': {'id': 'bib5',\n",
       "    'label': '5',\n",
       "    'authors': [{'given-name': 'D.A.', 'surname': 'Corley'},\n",
       "     {'given-name': 'C.D.', 'surname': 'Jensen'},\n",
       "     {'given-name': 'A.R.', 'surname': 'Marks'}],\n",
       "    'title': {'maintitle': 'Adenoma detection rate and risk of colorectal cancer and death'},\n",
       "    'host_title': {'maintitle': 'N\\xa0Engl J Med'},\n",
       "    'volume-nr': '370',\n",
       "    'date': '2014',\n",
       "    'pages': {'first-page': '1298', 'last-page': '1306'}},\n",
       "   'bib6': {'id': 'bib6',\n",
       "    'label': '6',\n",
       "    'authors': [{'given-name': 'Y.', 'surname': 'Solad'},\n",
       "     {'given-name': 'C.', 'surname': 'Wang'},\n",
       "     {'given-name': 'L.', 'surname': 'Laine'}],\n",
       "    'title': {'maintitle': \"Influence of colonoscopy quality measures on patients' colonoscopist selection\"},\n",
       "    'host_title': {'maintitle': 'Am J Gastroenterol'},\n",
       "    'volume-nr': '110',\n",
       "    'date': '2015',\n",
       "    'pages': {'first-page': '215', 'last-page': '219'}},\n",
       "   'bib7': {'id': 'bib7',\n",
       "    'label': '7',\n",
       "    'authors': [{'given-name': 'D.G.', 'surname': 'Hewett'},\n",
       "     {'given-name': 'D.K.', 'surname': 'Rex'}],\n",
       "    'title': {'maintitle': 'Improving colonoscopy quality through health-care payment reform'},\n",
       "    'host_title': {'maintitle': 'Am J Gastroenterol'},\n",
       "    'volume-nr': '105',\n",
       "    'date': '2010',\n",
       "    'pages': {'first-page': '1925', 'last-page': '1933'}},\n",
       "   'bib8': {'id': 'bib8',\n",
       "    'label': '8',\n",
       "    'authors': [{'given-name': 'M.A.', 'surname': 'Anderson'},\n",
       "     {'given-name': 'L.', 'surname': 'Fisher'},\n",
       "     {'given-name': 'R.', 'surname': 'Jain'}],\n",
       "    'title': {'maintitle': 'Complications of ERCP'},\n",
       "    'host_title': {'maintitle': 'Gastrointest Endosc'},\n",
       "    'volume-nr': '75',\n",
       "    'date': '2012',\n",
       "    'pages': {'first-page': '467', 'last-page': '473'}},\n",
       "   'bib9': {'id': 'bib9',\n",
       "    'label': '9',\n",
       "    'authors': [{'given-name': 'J.B.', 'surname': 'Colton'},\n",
       "     {'given-name': 'C.C.', 'surname': 'Curran'}],\n",
       "    'title': {'maintitle': 'Quality indicators, including complications, of ERCP in a community setting: a prospective study'},\n",
       "    'host_title': {'maintitle': 'Gastrointest Endosc'},\n",
       "    'volume-nr': '70',\n",
       "    'date': '2009',\n",
       "    'pages': {'first-page': '457', 'last-page': '467'}},\n",
       "   'bib10': {'id': 'bib10',\n",
       "    'label': '10',\n",
       "    'authors': [{'given-name': 'G.A.', 'surname': 'Cote'},\n",
       "     {'given-name': 'T.D.', 'surname': 'Imler'},\n",
       "     {'given-name': 'H.', 'surname': 'Xu'}],\n",
       "    'title': {'maintitle': 'Lower provider volume is associated with higher failure rates for endoscopic retrograde cholangiopancreatography'},\n",
       "    'host_title': {'maintitle': 'Med Care'},\n",
       "    'volume-nr': '51',\n",
       "    'date': '2013',\n",
       "    'pages': {'first-page': '1040', 'last-page': '1047'}},\n",
       "   'bib11': {'id': 'bib11',\n",
       "    'label': '11',\n",
       "    'authors': [{'given-name': 'C.', 'surname': 'Kapral'},\n",
       "     {'given-name': 'C.', 'surname': 'Duller'},\n",
       "     {'given-name': 'F.', 'surname': 'Wewalka'}],\n",
       "    'title': {'maintitle': 'Case volume and outcome of endoscopic retrograde cholangiopancreatography: results of a nationwide Austrian benchmarking project'},\n",
       "    'host_title': {'maintitle': 'Endoscopy'},\n",
       "    'volume-nr': '40',\n",
       "    'date': '2008',\n",
       "    'pages': {'first-page': '625', 'last-page': '630'}},\n",
       "   'bib12': {'id': 'bib12',\n",
       "    'label': '12',\n",
       "    'authors': [{'given-name': 'T.D.', 'surname': 'Imler'},\n",
       "     {'given-name': 'J.', 'surname': 'Morea'},\n",
       "     {'given-name': 'C.', 'surname': 'Kahi'}],\n",
       "    'title': {'maintitle': 'Natural language processing accurately categorizes findings from colonoscopy and pathology reports'},\n",
       "    'host_title': {'maintitle': 'Clin Gastroenterol Hepatol'},\n",
       "    'volume-nr': '11',\n",
       "    'date': '2013',\n",
       "    'pages': {'first-page': '689', 'last-page': '694'}},\n",
       "   'bib13': {'id': 'bib13',\n",
       "    'label': '13',\n",
       "    'authors': [{'given-name': 'A.', 'surname': 'Mehrotra'},\n",
       "     {'given-name': 'E.S.', 'surname': 'Dellon'},\n",
       "     {'given-name': 'R.E.', 'surname': 'Schoen'}],\n",
       "    'title': {'maintitle': 'Applying a natural language processing tool to electronic health records to assess performance on colonoscopy quality measures'},\n",
       "    'host_title': {'maintitle': 'Gastrointest Endosc'},\n",
       "    'volume-nr': '75',\n",
       "    'date': '2012',\n",
       "    'pages': {'first-page': '1233', 'last-page': '1239.e14'}},\n",
       "   'bib14': {'id': 'bib14',\n",
       "    'label': '14',\n",
       "    'authors': [{'given-name': 'H.', 'surname': 'Harkema'},\n",
       "     {'given-name': 'W.W.', 'surname': 'Chapman'},\n",
       "     {'given-name': 'M.', 'surname': 'Saul'}],\n",
       "    'title': {'maintitle': 'Developing a natural language processing application for measuring the quality of colonoscopy procedures'},\n",
       "    'host_title': {'maintitle': 'J\\xa0Am Med Inform Assoc'},\n",
       "    'volume-nr': '18',\n",
       "    'date': '2011',\n",
       "    'pages': {'first-page': 'i150', 'last-page': 'i156'}},\n",
       "   'bib15': {'id': 'bib15',\n",
       "    'label': '15',\n",
       "    'authors': [{'given-name': 'A.J.', 'surname': 'Gawron'},\n",
       "     {'given-name': 'W.K.', 'surname': 'Thompson'},\n",
       "     {'given-name': 'R.N.', 'surname': 'Keswani'}],\n",
       "    'title': {'maintitle': 'Anatomic and advanced adenoma detection rates as quality metrics determined via natural language processing'},\n",
       "    'host_title': {'maintitle': 'Am J Gastroenterol'},\n",
       "    'volume-nr': '109',\n",
       "    'date': '2014',\n",
       "    'pages': {'first-page': '1844', 'last-page': '1849'}},\n",
       "   'bib16': {'id': 'bib16',\n",
       "    'label': '16',\n",
       "    'authors': [{'given-name': 'T.D.', 'surname': 'Imler'},\n",
       "     {'given-name': 'J.', 'surname': 'Morea'},\n",
       "     {'given-name': 'C.', 'surname': 'Kahi'}],\n",
       "    'title': {'maintitle': 'Multi-center colonoscopy quality measurement utilizing natural language processing'},\n",
       "    'host_title': {'maintitle': 'Am J Gastroenterol'},\n",
       "    'volume-nr': '110',\n",
       "    'date': '2015',\n",
       "    'pages': {'first-page': '543', 'last-page': '552'}},\n",
       "   'bib17': {'id': 'bib17',\n",
       "    'label': '17',\n",
       "    'authors': [{'given-name': 'C.J.', 'surname': 'Kahi'},\n",
       "     {'given-name': 'D.', 'surname': 'Ballard'},\n",
       "     {'given-name': 'A.S.', 'surname': 'Shah'}],\n",
       "    'title': {'maintitle': 'Impact of a quarterly report card on colonoscopy quality measures'},\n",
       "    'host_title': {'maintitle': 'Gastrointest Endosc'},\n",
       "    'volume-nr': '77',\n",
       "    'date': '2013',\n",
       "    'pages': {'first-page': '925', 'last-page': '931'}},\n",
       "   'bib18': {'id': 'bib18',\n",
       "    'label': '18',\n",
       "    'authors': [{'given-name': 'P.G.', 'surname': 'Biondich'},\n",
       "     {'given-name': 'S.J.', 'surname': 'Grannis'}],\n",
       "    'title': {'maintitle': 'The Indiana network for patient care: an integrated clinical information system informed by over thirty years of experience'},\n",
       "    'host_title': {'maintitle': 'J\\xa0Public Health Manag Pract'},\n",
       "    'volume-nr': 'Suppl',\n",
       "    'date': '2004',\n",
       "    'pages': {'first-page': 'S81', 'last-page': 'S86'}},\n",
       "   'bib19': {'id': 'bib19',\n",
       "    'label': '19',\n",
       "    'authors': [{'given-name': 'C.J.', 'surname': 'McDonald'},\n",
       "     {'given-name': 'J.M.', 'surname': 'Overhage'},\n",
       "     {'given-name': 'M.', 'surname': 'Barnes'}],\n",
       "    'title': {'maintitle': 'The Indiana network for patient care: a working local health information infrastructure. An example of a working infrastructure collaboration that links data from five health systems and hundreds of millions of entries'},\n",
       "    'host_title': {'maintitle': 'Health Aff (Millwood)'},\n",
       "    'volume-nr': '24',\n",
       "    'date': '2005',\n",
       "    'pages': {'first-page': '1214', 'last-page': '1220'}},\n",
       "   'bib20': {'id': 'bib20',\n",
       "    'label': '20',\n",
       "    'authors': [{'given-name': 'D.A.', 'surname': 'Corley'},\n",
       "     {'given-name': 'C.D.', 'surname': 'Jensen'},\n",
       "     {'given-name': 'A.R.', 'surname': 'Marks'}],\n",
       "    'title': {'maintitle': 'Can we improve adenoma detection rates? A systematic review of intervention studies'},\n",
       "    'host_title': {'maintitle': 'Gastrointest Endosc'},\n",
       "    'volume-nr': '74',\n",
       "    'date': '2011',\n",
       "    'pages': {'first-page': '656', 'last-page': '665'}}}}}"
      ]
     },
     "execution_count": 27,
     "metadata": {},
     "output_type": "execute_result"
    }
   ],
   "source": [
    "ref.meta_dict"
   ]
  },
  {
   "cell_type": "code",
   "execution_count": 28,
   "metadata": {},
   "outputs": [],
   "source": [
    "bib2para = doc.get_metadata()['bib2para']"
   ]
  },
  {
   "cell_type": "code",
   "execution_count": 29,
   "metadata": {},
   "outputs": [
    {
     "name": "stdout",
     "output_type": "stream",
     "text": [
      "bibid_to_paraid\n"
     ]
    }
   ],
   "source": [
    "print(bib2para.meta_name)"
   ]
  },
  {
   "cell_type": "code",
   "execution_count": 30,
   "metadata": {
    "scrolled": true
   },
   "outputs": [
    {
     "data": {
      "text/plain": [
       "defaultdict(list,\n",
       "            {'bib1': ['p0010', 'p0010'],\n",
       "             'bib2': ['p0010'],\n",
       "             'bib3': ['p0010'],\n",
       "             'bib4': ['p0010'],\n",
       "             'bib5': ['p0010', 'p0010'],\n",
       "             'bib6': ['p0010'],\n",
       "             'bib7': ['p0010'],\n",
       "             'bib8': ['p0010'],\n",
       "             'bib9': ['p0010', 'p0010'],\n",
       "             'bib10': ['p0010'],\n",
       "             'bib11': ['p0010'],\n",
       "             'bib12': ['p0015'],\n",
       "             'bib13': ['p0015'],\n",
       "             'bib14': ['p0015'],\n",
       "             'bib15': ['p0015'],\n",
       "             'bib16': ['p0015', 'p0130'],\n",
       "             'bib17': ['p0015', 'p0020', 'p0105'],\n",
       "             'fig1': ['p0085'],\n",
       "             'dtbl1': ['p0085'],\n",
       "             'bib20': ['p0105'],\n",
       "             'fig3': ['p0105'],\n",
       "             'appsec1': ['p0125']})"
      ]
     },
     "execution_count": 30,
     "metadata": {},
     "output_type": "execute_result"
    }
   ],
   "source": [
    "bib2para.meta_dict"
   ]
  },
  {
   "cell_type": "markdown",
   "metadata": {},
   "source": [
    "## 从 paragraph id 反查段落"
   ]
  },
  {
   "cell_type": "code",
   "execution_count": 31,
   "metadata": {},
   "outputs": [],
   "source": [
    "paraid_map = doc.get_paragraphs()"
   ]
  },
  {
   "cell_type": "code",
   "execution_count": 32,
   "metadata": {
    "scrolled": true
   },
   "outputs": [
    {
     "data": {
      "text/plain": [
       "{'sectitle0035': <data_platform.document.Paragraph at 0x151b4d5a7b8>,\n",
       " 'p0010': <data_platform.document.Paragraph at 0x151b4d5a978>,\n",
       " 'p0015': <data_platform.document.Paragraph at 0x151b4ccf7b8>,\n",
       " 'p0020': <data_platform.document.Paragraph at 0x151b4d06278>,\n",
       " 'sectitle0040': <data_platform.document.Paragraph at 0x151b4d065c0>,\n",
       " 'p0025': <data_platform.document.Paragraph at 0x151b4d067b8>,\n",
       " 'sectitle0075': <data_platform.document.Paragraph at 0x151b4d069b0>,\n",
       " 'p0085': <data_platform.document.Paragraph at 0x151b4d06ba8>,\n",
       " 'sectitle0090': <data_platform.document.Paragraph at 0x151b4cc40b8>,\n",
       " 'p0105': <data_platform.document.Paragraph at 0x151b4cc4278>,\n",
       " 'p0110': <data_platform.document.Paragraph at 0x151b4cc4748>,\n",
       " 'p0115': <data_platform.document.Paragraph at 0x151b4cc4898>,\n",
       " 'p0120': <data_platform.document.Paragraph at 0x151b4cc49e8>,\n",
       " 'p0125': <data_platform.document.Paragraph at 0x151b4cc4b38>,\n",
       " 'p0130': <data_platform.document.Paragraph at 0x151b4cc4da0>,\n",
       " 'p0135': <data_platform.document.Paragraph at 0x151b4cd1080>,\n",
       " 'sectitle0095': <data_platform.document.Paragraph at 0x151b4cd1208>,\n",
       " 'p0140': <data_platform.document.Paragraph at 0x151b4cd13c8>}"
      ]
     },
     "execution_count": 32,
     "metadata": {},
     "output_type": "execute_result"
    }
   ],
   "source": [
    "paraid_map"
   ]
  },
  {
   "cell_type": "code",
   "execution_count": 33,
   "metadata": {},
   "outputs": [
    {
     "name": "stdout",
     "output_type": "stream",
     "text": [
      "Quality measurement of endoscopy is becoming the standard of care in the United States[1-5] and may influence the choice of provider, outcomes, and reimbursement.[5-7] ERCP, the highest-risk endoscopic procedure in widespread practice,[8] has not been extensively studied for individual, endoscopic-based quality measures.[9] Historically, ERCP quality has focused on provider or facility volume, with higher volumes associated with higher quality as defined by success and adverse event rates after adjusting for procedure indication.[10,11] In 2006, the American Society for Gastrointestinal Endoscopy (ASGE) and the American College of Gastroenterology (ACG) Task Force on Quality Endoscopy provided the first quality indicators for ERCP, many based on expert consensus,[9] and these were subsequently updated in 2014.[1]\n"
     ]
    }
   ],
   "source": [
    "print(paraid_map['p0010'].get_text())"
   ]
  },
  {
   "cell_type": "markdown",
   "metadata": {},
   "source": [
    "## 核心元数据"
   ]
  },
  {
   "cell_type": "code",
   "execution_count": 34,
   "metadata": {},
   "outputs": [
    {
     "name": "stdout",
     "output_type": "stream",
     "text": [
      "coredata\n"
     ]
    }
   ],
   "source": [
    "coredata = doc.get_metadata()['coredata']\n",
    "print(coredata.meta_name)"
   ]
  },
  {
   "cell_type": "code",
   "execution_count": 35,
   "metadata": {},
   "outputs": [
    {
     "data": {
      "text/plain": [
       "{'url': 'https://api.elsevier.com/content/article/pii/S0016510717318552',\n",
       " 'identifier': 'doi:10.1016/j.gie.2017.04.030',\n",
       " 'eid': '1-s2.0-S0016510717318552',\n",
       " 'doi': '10.1016/j.gie.2017.04.030',\n",
       " 'pii': 'S0016-5107(17)31855-2',\n",
       " 'title': 'Provider-specific quality measurement for ERCP using natural language processing',\n",
       " 'publicationName': 'Gastrointestinal Endoscopy',\n",
       " 'aggregationType': 'Journal',\n",
       " 'pubType': 'Original article\\n                                 Clinical endoscopy',\n",
       " 'issn': '00165107',\n",
       " 'volume': '87',\n",
       " 'issueIdentifier': '1',\n",
       " 'startingPage': '164',\n",
       " 'endingPage': '173.e2',\n",
       " 'pageRange': '164-173.e2',\n",
       " 'number': '1',\n",
       " 'format': 'text/xml',\n",
       " 'coverDate': '2018-01-31',\n",
       " 'coverDisplayDate': 'January 2018',\n",
       " 'copyright': '© 2018 by the American Society for Gastrointestinal Endoscopy',\n",
       " 'publisher': 'by the American Society for Gastrointestinal Endoscopy',\n",
       " 'creator': 'Coté, Gregory A.',\n",
       " 'description': 'Background and Aims\\n                  Natural language processing (NLP) is an information retrieval technique that has been shown to accurately identify quality measures for colonoscopy. There are no systematic methods by which to track adherence to quality measures for ERCP, the highest risk endoscopic procedure widely used in practice. Our aim was to demonstrate the feasibility of using NLP to measure adherence to ERCP quality indicators across individual providers.\\n                                                Methods\\n                  ERCPs performed by 6 providers at a single institution from 2006 to 2014 were identified. Quality measures were defined using society guidelines and from expert opinion, and then extracted using a combination of NLP and data mining (eg, ICD9-CM codes). Validation for each quality measure was performed by manual record review. Quality measures were grouped into preprocedure (5), intraprocedure (6), and postprocedure (2). NLP was evaluated using measures of precision and accuracy.\\n                                                Results\\n                  A total of 23,674 ERCPs were analyzed (average patient age, 52.9 ± 17.8 years, 14,113 were women [59.6%]). Among 13 quality measures, precision of NLP ranged from 84% to 100% with intraprocedure measures having lower precision (84% for precut sphincterotomy). Accuracy of NLP ranged from 90% to 100% with intraprocedure measures having lower accuracy (90% for pancreatic stent placement).\\n                                                Conclusions\\n                  NLP in conjunction with data mining facilitates individualized tracking of ERCP providers for quality metrics without the need for manual medical record review. Incorporation of these tools across multiple centers may permit tracking of ERCP quality measures through national registries.',\n",
       " 'openaccess': '0',\n",
       " 'openaccessArticle': 'false',\n",
       " 'openaccessType': '',\n",
       " 'openArchiveArticle': 'false',\n",
       " 'openaccessSponsorName': '',\n",
       " 'openaccessSponsorType': '',\n",
       " 'openaccessUserLicense': '',\n",
       " 'link': ''}"
      ]
     },
     "execution_count": 35,
     "metadata": {},
     "output_type": "execute_result"
    }
   ],
   "source": [
    "coredata.meta_dict"
   ]
  }
 ],
 "metadata": {
  "kernelspec": {
   "display_name": "Python 3.6 (KnowNet)",
   "language": "python",
   "name": "knownet"
  },
  "language_info": {
   "codemirror_mode": {
    "name": "ipython",
    "version": 3
   },
   "file_extension": ".py",
   "mimetype": "text/x-python",
   "name": "python",
   "nbconvert_exporter": "python",
   "pygments_lexer": "ipython3",
   "version": "3.6.6"
  }
 },
 "nbformat": 4,
 "nbformat_minor": 2
}
